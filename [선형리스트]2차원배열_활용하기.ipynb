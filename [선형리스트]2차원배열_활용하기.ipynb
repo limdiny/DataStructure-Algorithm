{
  "nbformat": 4,
  "nbformat_minor": 0,
  "metadata": {
    "colab": {
      "name": "선형리스트-2차원배열 활용하기",
      "provenance": [],
      "collapsed_sections": [],
      "authorship_tag": "ABX9TyPSjF539tWQfySt1c2awnqF",
      "include_colab_link": true
    },
    "kernelspec": {
      "name": "python3",
      "display_name": "Python 3"
    },
    "language_info": {
      "name": "python"
    }
  },
  "cells": [
    {
      "cell_type": "markdown",
      "metadata": {
        "id": "view-in-github",
        "colab_type": "text"
      },
      "source": [
        "<a href=\"https://colab.research.google.com/github/limdiny/DataStructure-Algorithm/blob/main/%EC%84%A0%ED%98%95%EB%A6%AC%EC%8A%A4%ED%8A%B8_2%EC%B0%A8%EC%9B%90%EB%B0%B0%EC%97%B4_%ED%99%9C%EC%9A%A9%ED%95%98%EA%B8%B0.ipynb\" target=\"_parent\"><img src=\"https://colab.research.google.com/assets/colab-badge.svg\" alt=\"Open In Colab\"/></a>"
      ]
    },
    {
      "cell_type": "code",
      "source": [
        "# 전역변수\n",
        "t_x = [300,20,0] # 차수\n",
        "p_x = [7,-4,5] # 계수\n",
        "\n",
        "def printPoly(t_x,p_x):\n",
        "  polyStr = 'P(x) = '\n",
        "\n",
        "  for i in range(len(p_x)):\n",
        "    term = t_x[i] # 차수\n",
        "    coef = p_x[i] # 계수\n",
        "\n",
        "    if coef>=0 :\n",
        "      polyStr += '+'\n",
        "    polyStr += str(coef)+'X^'+str(term)+' '\n",
        "  return polyStr\n",
        "\n",
        "\n",
        "def calcPoly(xVal,t_x,p_x):\n",
        "  retValue = 0\n",
        "\n",
        "  for i in range(len(p_x)):\n",
        "    term = t_x[i]\n",
        "    coef = p_x[i]\n",
        "\n",
        "    retValue += coef*xVal**term\n",
        "  \n",
        "  return retValue\n",
        "\n",
        "if __name__ =='__main__':\n",
        "\n",
        "  pStr = printPoly(t_x,p_x)\n",
        "  print(pStr)\n",
        "\n",
        "  xVal = int(input('x값 : '))\n",
        "\n",
        "  pxValue = calcPoly(xVal,t_x,p_x)\n",
        "  print(pxValue)"
      ],
      "metadata": {
        "colab": {
          "base_uri": "https://localhost:8080/"
        },
        "id": "Gkrrp8vLn5lz",
        "outputId": "de071c92-5c33-4ac8-f14e-0c02eaaab11c"
      },
      "execution_count": null,
      "outputs": [
        {
          "output_type": "stream",
          "name": "stdout",
          "text": [
            "P(x) = +7X^300 -4X^20 +5X^0 \n",
            "x값 : 2\n",
            "14259251834341402603879119818865647127360278755661553754452983145480669098343356943279587333\n"
          ]
        }
      ]
    },
    {
      "cell_type": "markdown",
      "source": [
        "# 2차원 배열을 이용한 특수 다항식"
      ],
      "metadata": {
        "id": "75RLWkqV2iQw"
      }
    },
    {
      "cell_type": "code",
      "source": [
        "def printPoly(p_x):\n",
        "  polyStr = 'P(x) = ' \n",
        "\n",
        "  for i in range(len(p_x[0])):\n",
        "    term = p_x[0][i] # 차수\n",
        "    coef = p_x[1][i] # 계수\n",
        "    if(coef>=0):\n",
        "      polyStr += '+'\n",
        "    polyStr += str(coef)+'X^'+str(term)+' '\n",
        "  return polyStr\n",
        "\n",
        "def calcPoly(xVal,p_x):\n",
        "  retValue = 0\n",
        "  for i in range(len(p_x[0])):\n",
        "    retValue += p_x[1][i]*xVal**p_x[0][i]\n",
        "\n",
        "  return retValue\n",
        "\n",
        "\n",
        "p_x = [[300,20,0],[7,-4,5]]\n",
        "\n",
        "if __name__ == '__main__':\n",
        "  pStr = printPoly(p_x)\n",
        "  print(pStr)\n",
        "\n",
        "  xVal = int(input('x값 : '))\n",
        "  pxValue = calcPoly(xVal,p_x)\n",
        "  print(pxValue)"
      ],
      "metadata": {
        "id": "scdnevm8y05s",
        "colab": {
          "base_uri": "https://localhost:8080/"
        },
        "outputId": "23ce858a-82b0-4a12-a968-361c4db42b96"
      },
      "execution_count": 21,
      "outputs": [
        {
          "output_type": "stream",
          "name": "stdout",
          "text": [
            "P(x) = +7X^300 -4X^20 +5X^0 \n",
            "x값 : 2\n",
            "14259251834341402603879119818865647127360278755661553754452983145480669098343356943279587333\n"
          ]
        }
      ]
    },
    {
      "cell_type": "code",
      "source": [
        ""
      ],
      "metadata": {
        "id": "r_LyL6Lw2U-c"
      },
      "execution_count": null,
      "outputs": []
    }
  ]
}
