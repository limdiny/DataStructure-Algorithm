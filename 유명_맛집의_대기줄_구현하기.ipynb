{
  "nbformat": 4,
  "nbformat_minor": 0,
  "metadata": {
    "colab": {
      "name": "유명 맛집의 대기줄 구현하기",
      "provenance": [],
      "authorship_tag": "ABX9TyOjofB+AX0U3it1A1lEBxvQ",
      "include_colab_link": true
    },
    "kernelspec": {
      "name": "python3",
      "display_name": "Python 3"
    },
    "language_info": {
      "name": "python"
    }
  },
  "cells": [
    {
      "cell_type": "markdown",
      "metadata": {
        "id": "view-in-github",
        "colab_type": "text"
      },
      "source": [
        "<a href=\"https://colab.research.google.com/github/limdiny/DataStructure-Algorithm/blob/main/%EC%9C%A0%EB%AA%85_%EB%A7%9B%EC%A7%91%EC%9D%98_%EB%8C%80%EA%B8%B0%EC%A4%84_%EA%B5%AC%ED%98%84%ED%95%98%EA%B8%B0.ipynb\" target=\"_parent\"><img src=\"https://colab.research.google.com/assets/colab-badge.svg\" alt=\"Open In Colab\"/></a>"
      ]
    },
    {
      "cell_type": "code",
      "execution_count": 10,
      "metadata": {
        "colab": {
          "base_uri": "https://localhost:8080/"
        },
        "id": "o3aG7kIH2WTU",
        "outputId": "436fb283-d6a3-45ec-fd3e-71997b5b3d8a"
      },
      "outputs": [
        {
          "output_type": "stream",
          "name": "stdout",
          "text": [
            "몇 명을 받으실건가요?5\n",
            "이름을 적어주세요 :정국\n",
            "이름을 적어주세요 :지민\n",
            "이름을 적어주세요 :뷔\n",
            "이름을 적어주세요 :슈가\n",
            "이름을 적어주세요 :진\n",
            "대기명단  ['정국', '지민', '뷔', '슈가', '진']\n",
            "정국 님이 식당으로 들어갔습니다.\n",
            "대기명단 ['지민', '뷔', '슈가', '진', None]\n",
            "지민 님이 식당으로 들어갔습니다.\n",
            "대기명단 ['뷔', '슈가', '진', None, None]\n",
            "뷔 님이 식당으로 들어갔습니다.\n",
            "대기명단 ['슈가', '진', None, None, None]\n",
            "슈가 님이 식당으로 들어갔습니다.\n",
            "대기명단 ['진', None, None, None, None]\n",
            "진 님이 식당으로 들어갔습니다.\n",
            "대기명단 [None, None, None, None, None]\n",
            "--------------------\n",
            "영업을 종료합니다.\n"
          ]
        }
      ],
      "source": [
        "size = int(input('몇 명을 받으실건가요?'))\n",
        "que = [None for i in range(size)]\n",
        "front = rear = -1\n",
        "\n",
        "def isQueueFull():\n",
        "  global size,que,front,rear\n",
        "  if (rear!=size-1):\n",
        "    return False\n",
        "  else:\n",
        "    return True\n",
        "\n",
        "def enQueue(data):\n",
        "  global size,que,front,rear\n",
        "  if (isQueueFull()):\n",
        "    print('대기줄이 꽉 찼습니다.')\n",
        "  rear += 1\n",
        "  que[rear] = data\n",
        "\n",
        "def deQueue():\n",
        "  global size,que,front,rear\n",
        "  if (front==rear):\n",
        "    print('손님이 없습니다.')\n",
        "  front += 1\n",
        "  data = que[front]\n",
        "  que[front] = None\n",
        "\n",
        "  for i in range(front+1,rear+1): # 대기사람 앞으로 땡기는 코드 \n",
        "    que[i-1] = que[i]\n",
        "    que[i] = None\n",
        "  front -= 1\n",
        "  rear -= 1\n",
        "\n",
        "  return data\n",
        "\n",
        "def peek():\n",
        "  global size,que,front,rear\n",
        "  if (front==rear):\n",
        "    print('확인할 손님이 없습니다.')\n",
        "  return que[front+1]\n",
        "\n",
        "if __name__ == '__main__':\n",
        "  for i in range(size):\n",
        "    data = input('이름을 적어주세요 :')\n",
        "    enQueue(data)\n",
        "  print('대기명단 ',que)\n",
        "\n",
        "  for i in range(size):\n",
        "    print(deQueue(),'님이 식당으로 들어갔습니다.')\n",
        "    print('대기명단',que)\n",
        "  print('--------------------ㅈ')\n",
        "  print('영업을 종료합니다.')\n"
      ]
    }
  ]
}