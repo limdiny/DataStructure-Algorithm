{
  "nbformat": 4,
  "nbformat_minor": 0,
  "metadata": {
    "colab": {
      "name": "자동 로또 번호 생성기",
      "provenance": [],
      "authorship_tag": "ABX9TyPR469x9vfj4ok05VnP4IPC",
      "include_colab_link": true
    },
    "kernelspec": {
      "name": "python3",
      "display_name": "Python 3"
    },
    "language_info": {
      "name": "python"
    }
  },
  "cells": [
    {
      "cell_type": "markdown",
      "metadata": {
        "id": "view-in-github",
        "colab_type": "text"
      },
      "source": [
        "<a href=\"https://colab.research.google.com/github/limdiny/DataStructure-Algorithm/blob/main/%EC%9E%90%EB%8F%99_%EB%A1%9C%EB%98%90_%EB%B2%88%ED%98%B8_%EC%83%9D%EC%84%B1%EA%B8%B0.ipynb\" target=\"_parent\"><img src=\"https://colab.research.google.com/assets/colab-badge.svg\" alt=\"Open In Colab\"/></a>"
      ]
    },
    {
      "cell_type": "code",
      "source": [
        "import random\n",
        "lotto = []\n",
        "\n",
        "print('**로또 번호 생성을 시작합니다.**')\n",
        "count = int(input('몇 개를 뽑을까요? :'))\n",
        "\n",
        "while True:\n",
        "  picknum = random.randint(1,45)\n",
        "  if picknum not in lotto:\n",
        "    lotto.append(picknum)\n",
        "  if len(lotto) == count:\n",
        "    break\n",
        "\n",
        "lotto\n"
      ],
      "metadata": {
        "colab": {
          "base_uri": "https://localhost:8080/"
        },
        "id": "mNLzHNYr7u33",
        "outputId": "7a6f8061-7656-432e-eb7c-d7cef749dd1b"
      },
      "execution_count": 2,
      "outputs": [
        {
          "name": "stdout",
          "output_type": "stream",
          "text": [
            "**로또 번호 생성을 시작합니다.**\n",
            "몇 개를 뽑을까요? :6\n"
          ]
        },
        {
          "output_type": "execute_result",
          "data": {
            "text/plain": [
              "[5, 7, 32, 19, 37, 3]"
            ]
          },
          "metadata": {},
          "execution_count": 2
        }
      ]
    },
    {
      "cell_type": "code",
      "execution_count": 27,
      "metadata": {
        "colab": {
          "base_uri": "https://localhost:8080/"
        },
        "id": "wL7PDR5f0at_",
        "outputId": "faf576df-e0c9-4598-aa6b-327c54766807"
      },
      "outputs": [
        {
          "name": "stdout",
          "output_type": "stream",
          "text": [
            "**로또 번호 생성을 시작합니다.**\n",
            "몇 쌍을 뽑을까요? :5\n"
          ]
        },
        {
          "output_type": "execute_result",
          "data": {
            "text/plain": [
              "[[7, 32, 34, 20, 42, 15],\n",
              " [29, 9, 33, 2, 45, 36],\n",
              " [8, 18, 44, 17, 33, 26],\n",
              " [16, 7, 33, 29, 39, 27],\n",
              " [29, 43, 44, 23, 7, 32]]"
            ]
          },
          "metadata": {},
          "execution_count": 27
        }
      ],
      "source": [
        "import random\n",
        "\n",
        "paper = []\n",
        "\n",
        "print('**로또 번호 생성을 시작합니다.**')\n",
        "count = int(input('몇 쌍을 뽑을까요? :'))\n",
        "\n",
        "\n",
        "for i in range(count):\n",
        "  lotto=[]\n",
        "  while True:\n",
        "    picknum = random.randint(1,45)\n",
        "    if picknum not in lotto:\n",
        "      lotto.append(picknum)\n",
        "    if len(lotto) == 6:\n",
        "      break\n",
        "  paper.append(lotto)\n",
        "\n",
        "paper "
      ]
    },
    {
      "cell_type": "code",
      "source": [
        "for lotto in paper:\n",
        "  lotto.sort()\n",
        "  print('자동번호 --> ',end=' ')\n",
        "  for i in range(6):\n",
        "    print('%2d'%lotto[i],end=' ')\n",
        "  print()"
      ],
      "metadata": {
        "colab": {
          "base_uri": "https://localhost:8080/"
        },
        "id": "nOjFhdsjBOTw",
        "outputId": "17482a05-0532-441d-e90c-52a50e1ff4d2"
      },
      "execution_count": 29,
      "outputs": [
        {
          "output_type": "stream",
          "name": "stdout",
          "text": [
            "자동번호 -->   7 15 20 32 34 42 \n",
            "자동번호 -->   2  9 29 33 36 45 \n",
            "자동번호 -->   8 17 18 26 33 44 \n",
            "자동번호 -->   7 16 27 29 33 39 \n",
            "자동번호 -->   7 23 29 32 43 44 \n"
          ]
        }
      ]
    }
  ]
}