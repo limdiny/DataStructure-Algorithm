{
  "nbformat": 4,
  "nbformat_minor": 0,
  "metadata": {
    "colab": {
      "name": "선형리스트-카톡 친구 자동 삽입하기",
      "provenance": [],
      "authorship_tag": "ABX9TyPTWCnIjrgcOcjoVJnx4/SQ",
      "include_colab_link": true
    },
    "kernelspec": {
      "name": "python3",
      "display_name": "Python 3"
    },
    "language_info": {
      "name": "python"
    }
  },
  "cells": [
    {
      "cell_type": "markdown",
      "metadata": {
        "id": "view-in-github",
        "colab_type": "text"
      },
      "source": [
        "<a href=\"https://colab.research.google.com/github/limdiny/DataStructure-Algorithm/blob/main/%EC%84%A0%ED%98%95%EB%A6%AC%EC%8A%A4%ED%8A%B8_%EC%B9%B4%ED%86%A1_%EC%B9%9C%EA%B5%AC_%EC%9E%90%EB%8F%99_%EC%82%BD%EC%9E%85%ED%95%98%EA%B8%B0.ipynb\" target=\"_parent\"><img src=\"https://colab.research.google.com/assets/colab-badge.svg\" alt=\"Open In Colab\"/></a>"
      ]
    },
    {
      "cell_type": "code",
      "execution_count": null,
      "metadata": {
        "colab": {
          "base_uri": "https://localhost:8080/"
        },
        "id": "mLd-v6zdCFIP",
        "outputId": "3bff94c7-75cb-4e27-e56f-39532fa4b927"
      },
      "outputs": [
        {
          "output_type": "stream",
          "name": "stdout",
          "text": [
            "추가할 친구 -->송강\n",
            "카톡 횟수 -->200\n",
            "[('송강', 200), ('다현', 200), ('정연', 150), ('쯔위', 90), ('사나', 30), ('지효', 15)]\n",
            "추가할 친구 -->주혁\n",
            "카톡 횟수 -->50\n",
            "[('송강', 200), ('다현', 200), ('정연', 150), ('쯔위', 90), ('주혁', 50), ('사나', 30), ('지효', 15)]\n",
            "추가할 친구 -->민호\n",
            "카톡 횟수 -->5\n",
            "[('송강', 200), ('다현', 200), ('정연', 150), ('쯔위', 90), ('주혁', 50), ('사나', 30), ('지효', 15), ('민호', 5)]\n"
          ]
        }
      ],
      "source": [
        "def insert_data(position,friend):\n",
        "  if position<0 or position>len(katok):\n",
        "    print('데이터 삽입 범위를 벗어났습니다.')\n",
        "    return\n",
        "\n",
        "  katok.append(None)\n",
        "  kLen = len(katok)\n",
        "  for i in range(kLen-1,position,-1):\n",
        "    katok[i] = katok[i-1]\n",
        "    katok[i-1] = None\n",
        "  \n",
        "  katok[position] = friend\n",
        "\n",
        "def find_insert_data(friend,k_count):\n",
        "  findPos = -1 # 새친구의 위치를 -1로 일단 설정한다.\n",
        "\n",
        "  for i in range(len(katok)):\n",
        "        pair = katok[i] # 기존 친구\n",
        "        if k_count >= pair[1]: #튜플 형태 -> 카톡 횟수 비교 \n",
        "          findPos = i \n",
        "          break\n",
        "\n",
        "  if findPos == -1:\n",
        "    findPos = len(katok)\n",
        "\n",
        "  insert_data(findPos,(friend,k_count))\n",
        "\n",
        "\n",
        "# 전역변수 지정\n",
        "katok = [('다현',200),('정연',150),('쯔위',90),('사나',30),('지효',15)]\n",
        "\n",
        "if __name__ == '__main__':\n",
        "  while True:\n",
        "    data = input('추가할 친구 -->')\n",
        "    count = int(input('카톡 횟수 -->'))\n",
        "    find_insert_data(data,count)\n",
        "    print(katok)\n"
      ]
    },
    {
      "cell_type": "code",
      "source": [
        ""
      ],
      "metadata": {
        "id": "Ar6AGh-qG_4e"
      },
      "execution_count": null,
      "outputs": []
    }
  ]
}