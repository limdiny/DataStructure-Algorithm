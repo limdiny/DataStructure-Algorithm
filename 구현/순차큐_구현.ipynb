{
  "nbformat": 4,
  "nbformat_minor": 0,
  "metadata": {
    "colab": {
      "name": "순차큐  구현",
      "provenance": [],
      "authorship_tag": "ABX9TyMq9sPfFOxoz67C32qqENUL",
      "include_colab_link": true
    },
    "kernelspec": {
      "name": "python3",
      "display_name": "Python 3"
    },
    "language_info": {
      "name": "python"
    }
  },
  "cells": [
    {
      "cell_type": "markdown",
      "metadata": {
        "id": "view-in-github",
        "colab_type": "text"
      },
      "source": [
        "<a href=\"https://colab.research.google.com/github/limdiny/DataStructure-Algorithm/blob/main/%EC%88%9C%EC%B0%A8%ED%81%90_%EA%B5%AC%ED%98%84.ipynb\" target=\"_parent\"><img src=\"https://colab.research.google.com/assets/colab-badge.svg\" alt=\"Open In Colab\"/></a>"
      ]
    },
    {
      "cell_type": "code",
      "execution_count": 2,
      "metadata": {
        "colab": {
          "base_uri": "https://localhost:8080/"
        },
        "id": "WlKT1nAthFuc",
        "outputId": "70335efd-b42f-4046-e3df-b9bdb676aac1"
      },
      "outputs": [
        {
          "output_type": "stream",
          "name": "stdout",
          "text": [
            "큐상태\n",
            "[출구]<-- 화사 솔라 문별 None None <--[입구]\n",
            "-------------------\n",
            "deQueue--> 화사\n",
            "deQueue--> 솔라\n",
            "deQueue--> 문별\n",
            "큐상태\n",
            "[출구]<-- None None None None None <--[입구]\n"
          ]
        }
      ],
      "source": [
        "# 큐 생성\n",
        "que = [None,None,None,None,None]\n",
        "front = rear = -1\n",
        "\n",
        "# 엔큐(데이터 삽입)\n",
        "rear += 1\n",
        "que[rear] = '화사'\n",
        "\n",
        "rear += 1\n",
        "que[rear] = '솔라'\n",
        "\n",
        "rear += 1\n",
        "que[rear] = '문별'\n",
        "\n",
        "print('큐상태')\n",
        "print('[출구]<--',end=' ')\n",
        "for i in range(len(que)):\n",
        "  print(que[i], end=' ')\n",
        "print('<--[입구]')\n",
        "\n",
        "print('-------------------')\n",
        "# 데큐(데이터 추출)\n",
        "front += 1\n",
        "data = que[front]\n",
        "que[front]= None\n",
        "print('deQueue-->',data)\n",
        "\n",
        "front += 1\n",
        "data = que[front]\n",
        "que[front]= None\n",
        "print('deQueue-->',data)\n",
        "\n",
        "front += 1\n",
        "data = que[front]\n",
        "que[front]= None\n",
        "print('deQueue-->',data)\n",
        "\n",
        "print\n",
        "print('큐상태')\n",
        "print('[출구]<--',end=' ')\n",
        "for i in range(len(que)):\n",
        "  print(que[i],end=' ')\n",
        "print('<--[입구]')"
      ]
    },
    {
      "cell_type": "code",
      "source": [
        "# 데이터 삽입 전, 큐가 꽉 찼는지 확인하는 함수\n",
        "def isQueueFull():\n",
        "  global size,que,front,rear\n",
        "  if (rear!= size-1):\n",
        "    return False\n",
        "  elif (rear==size-1) and (front==-1):\n",
        "    return True\n",
        "  else:\n",
        "    for i in range(front+1,size):\n",
        "      que[i-1] = que[i] # 데이터 출구쪽으로 한칸씩 이동\n",
        "      que[i] = None\n",
        "    front -= 1\n",
        "    rear -= 1\n",
        "    return False\n",
        "\n",
        "\n",
        "# 데이터 삽입 함수\n",
        "def enQueue(data):\n",
        "  global size,que,front,rear\n",
        "  if (isQueueFull()):\n",
        "    print('큐가 꽉찼습니다.')\n",
        "    return\n",
        "  rear += 1\n",
        "  que[rear] = data\n",
        "\n",
        "# 데이터 추출 함수\n",
        "def deQueue():\n",
        "  global size,que,front,rear\n",
        "  if (front==rear):\n",
        "    print('큐가 비었습니다.')\n",
        "    return None \n",
        "  front += 1\n",
        "  data = que[front]\n",
        "  que[front] = None\n",
        "  return data\n",
        "\n",
        "# 데이터 확인 함수 (다음에 추출될 데이터를 큐에 그대로 두고 확인만 하는 함수)\n",
        "def peek():\n",
        "  global size,que,front,rear\n",
        "  if (front==rear):\n",
        "    print('큐가 비었습니다.')\n",
        "    return None\n",
        "  return que[front+1]\n",
        "\n",
        "# 전역변수 선언\n",
        "size = int(input('큐 크기를 입력하세요-->'))\n",
        "que = [None for i in range(size)]\n",
        "front = rear = -1\n",
        "\n",
        "# 메인코드\n",
        "if __name__ == '__main__':\n",
        "  select = input('삽입(I)/추출(E)/확인(V)/종료(X) 중 하나를 선택 -->')\n",
        "\n",
        "  while (select !='x' and select !='X'):\n",
        "    if (select =='i' or select =='I'):\n",
        "      data = input('입력할 데이터 -->')\n",
        "      enQueue(data)\n",
        "      print('큐상태 : ', que)\n",
        "    elif (select =='e' or select =='E'):\n",
        "      data = deQueue()\n",
        "      print('추출한 데이터 -->',data)\n",
        "      print('큐상태 : ',que)\n",
        "    elif (select =='v' or select =='V'):\n",
        "      data = peek()\n",
        "      print('확인된 데이터 -->',data)\n",
        "      print('큐상태 :',que)\n",
        "    else:\n",
        "      print('입력이 잘못됨')\n",
        "    \n",
        "    \n",
        "    select = input('삽입(I)/추출(E)/확인(V)/종료(X) 중 하나를 선택 -->')\n",
        "\n",
        "  print('프로그램 종료')\n",
        "\n",
        "\n"
      ],
      "metadata": {
        "colab": {
          "base_uri": "https://localhost:8080/"
        },
        "id": "-s4K4rmwkMZR",
        "outputId": "057c0b9f-b2c1-4002-b5e9-34ad0b9e22f9"
      },
      "execution_count": 1,
      "outputs": [
        {
          "output_type": "stream",
          "name": "stdout",
          "text": [
            "큐 크기를 입력하세요-->3\n",
            "삽입(I)/추출(E)/확인(V)/종료(X) 중 하나를 선택 -->i\n",
            "입력할 데이터 -->소연\n",
            "큐상태 :  ['소연', None, None]\n",
            "삽입(I)/추출(E)/확인(V)/종료(X) 중 하나를 선택 -->i\n",
            "입력할 데이터 -->현진\n",
            "큐상태 :  ['소연', '현진', None]\n",
            "삽입(I)/추출(E)/확인(V)/종료(X) 중 하나를 선택 -->i\n",
            "입력할 데이터 -->지연\n",
            "큐상태 :  ['소연', '현진', '지연']\n",
            "삽입(I)/추출(E)/확인(V)/종료(X) 중 하나를 선택 -->e\n",
            "추출한 데이터 --> 소연\n",
            "큐상태 :  [None, '현진', '지연']\n",
            "삽입(I)/추출(E)/확인(V)/종료(X) 중 하나를 선택 -->i\n",
            "입력할 데이터 -->화사\n",
            "큐상태 :  ['현진', '지연', '화사']\n",
            "삽입(I)/추출(E)/확인(V)/종료(X) 중 하나를 선택 -->v\n",
            "확인된 데이터 --> 현진\n",
            "큐상태 : ['현진', '지연', '화사']\n",
            "삽입(I)/추출(E)/확인(V)/종료(X) 중 하나를 선택 -->e\n",
            "추출한 데이터 --> 현진\n",
            "큐상태 :  [None, '지연', '화사']\n",
            "삽입(I)/추출(E)/확인(V)/종료(X) 중 하나를 선택 -->e\n",
            "추출한 데이터 --> 지연\n",
            "큐상태 :  [None, None, '화사']\n",
            "삽입(I)/추출(E)/확인(V)/종료(X) 중 하나를 선택 -->e\n",
            "추출한 데이터 --> 화사\n",
            "큐상태 :  [None, None, None]\n",
            "삽입(I)/추출(E)/확인(V)/종료(X) 중 하나를 선택 -->e\n",
            "큐가 비었습니다.\n",
            "추출한 데이터 --> None\n",
            "큐상태 :  [None, None, None]\n",
            "삽입(I)/추출(E)/확인(V)/종료(X) 중 하나를 선택 -->x\n",
            "프로그램 종료\n"
          ]
        }
      ]
    },
    {
      "cell_type": "code",
      "source": [
        ""
      ],
      "metadata": {
        "id": "rGPRvk-juO-f"
      },
      "execution_count": null,
      "outputs": []
    }
  ]
}
