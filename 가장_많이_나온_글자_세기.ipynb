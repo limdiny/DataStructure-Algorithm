{
  "nbformat": 4,
  "nbformat_minor": 0,
  "metadata": {
    "colab": {
      "name": "가장 많이 나온 글자 세기",
      "provenance": [],
      "authorship_tag": "ABX9TyM2/QRAx+aJ6I3p2ZihpXrG",
      "include_colab_link": true
    },
    "kernelspec": {
      "name": "python3",
      "display_name": "Python 3"
    },
    "language_info": {
      "name": "python"
    }
  },
  "cells": [
    {
      "cell_type": "markdown",
      "metadata": {
        "id": "view-in-github",
        "colab_type": "text"
      },
      "source": [
        "<a href=\"https://colab.research.google.com/github/limdiny/DataStructure-Algorithm/blob/main/%EA%B0%80%EC%9E%A5_%EB%A7%8E%EC%9D%B4_%EB%82%98%EC%98%A8_%EA%B8%80%EC%9E%90_%EC%84%B8%EA%B8%B0.ipynb\" target=\"_parent\"><img src=\"https://colab.research.google.com/assets/colab-badge.svg\" alt=\"Open In Colab\"/></a>"
      ]
    },
    {
      "cell_type": "code",
      "execution_count": null,
      "metadata": {
        "colab": {
          "base_uri": "https://localhost:8080/"
        },
        "id": "2hUw87rNCAi4",
        "outputId": "521098bb-ca29-4756-fffe-8bbd05e758c6"
      },
      "outputs": [
        {
          "output_type": "stream",
          "name": "stdout",
          "text": [
            "{'나': 2, '보': 3, '기': 2, '가': 7, '역': 2, '겨': 2, '워': 2, '실': 3, '때': 2, '에': 4, '는': 3, '말': 1, '없': 1, '이': 2, '고': 2, '내': 1, '드': 1, '리': 6, '오': 3, '다': 4, '영': 1, '변': 1, '약': 1, '산': 1, '진': 1, '달': 1, '래': 1, '꽃': 2, '아': 2, '름': 1, '따': 1, '길': 1, '뿌': 1, '시': 2, '걸': 2, '음': 2, '놓': 1, '인': 1, '그': 1, '을': 1, '사': 1, '뿐': 1, '히': 1, '즈': 1, '려': 1, '밟': 1, '옵': 1, '서': 2, '죽': 1, '어': 1, '도': 1, '니': 1, '눈': 1, '물': 1, '흘': 1} "
          ]
        }
      ],
      "source": [
        "poet= '''\n",
        "나 보기가 역겨워 가실 때에는 말없이 고이 보내 드리오리다\n",
        "영변에 약산 진달래꽃 아름 따다 가실 길에 뿌리오리다\n",
        "가시는 걸음걸음 놓인 그 꽃을 사뿐히 즈려 밟고 가시옵서서\n",
        "나 보기가 역겨워 가실 때에는 죽어도 아니 눈물 흘리오리다\n",
        "'''\n",
        "# {'문자': 개수}\n",
        "count = {}\n",
        "\n",
        "for ch in poet:\n",
        "  # isalpha()는 영문자, 한글을 true로 반환한다.\n",
        "  if ch.isalpha():\n",
        "    if ch in count:\n",
        "      count[ch] += 1\n",
        "    else:\n",
        "      count[ch] = 1\n",
        "print(count,end=' ')"
      ]
    },
    {
      "cell_type": "code",
      "source": [
        "print('원문',poet)\n",
        "print('----------------------')\n",
        "print('문자 빈도수(4회 이상)')\n",
        "print('----------------------')\n",
        "for key in count:\n",
        "  if count[key] >=4 :\n",
        "    print(key,'-->',count[key])"
      ],
      "metadata": {
        "colab": {
          "base_uri": "https://localhost:8080/"
        },
        "id": "3WVuCv37FFgd",
        "outputId": "d97b749a-c7c1-484b-bd04-a613da61004a"
      },
      "execution_count": null,
      "outputs": [
        {
          "output_type": "stream",
          "name": "stdout",
          "text": [
            "원문 \n",
            "나 보기가 역겨워 가실 때에는 말없이 고이 보내 드리오리다\n",
            "영변에 약산 진달래꽃 아름 따다 가실 길에 뿌리오리다\n",
            "가시는 걸음걸음 놓인 그 꽃을 사뿐히 즈려 밟고 가시옵서서\n",
            "나 보기가 역겨워 가실 때에는 죽어도 아니 눈물 흘리오리다\n",
            "\n",
            "----------------------\n",
            "문자 빈도수(4회 이상)\n",
            "----------------------\n",
            "가 --> 7\n",
            "에 --> 4\n",
            "리 --> 6\n",
            "다 --> 4\n"
          ]
        }
      ]
    }
  ]
}